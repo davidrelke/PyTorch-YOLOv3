{
 "cells": [
  {
   "cell_type": "code",
   "execution_count": null,
   "metadata": {},
   "outputs": [],
   "source": [
    "!pip install -r requirements.txt"
   ]
  },
  {
   "cell_type": "markdown",
   "metadata": {},
   "source": [
    "Download the CARLA Dataset. This will take a while..."
   ]
  },
  {
   "cell_type": "code",
   "execution_count": 2,
   "metadata": {
    "collapsed": false,
    "jupyter": {
     "outputs_hidden": false
    },
    "pycharm": {
     "name": "#%%\n"
    }
   },
   "outputs": [
    {
     "name": "stdout",
     "output_type": "stream",
     "text": [
      "C:\\Studium\\PyTorch-YOLOv3\\data\n"
     ]
    },
    {
     "name": "stderr",
     "output_type": "stream",
     "text": [
      "Cloning into 'carla-dataset'...\n",
      "Updating files:   8% (1344/16052)\n",
      "Updating files:   9% (1445/16052)\n",
      "Updating files:  10% (1606/16052)\n",
      "Updating files:  11% (1766/16052)\n",
      "Updating files:  12% (1927/16052)\n",
      "Updating files:  13% (2087/16052)\n",
      "Updating files:  14% (2248/16052)\n",
      "Updating files:  15% (2408/16052)\n",
      "Updating files:  16% (2569/16052)\n",
      "Updating files:  16% (2625/16052)\n",
      "Updating files:  17% (2729/16052)\n",
      "Updating files:  18% (2890/16052)\n",
      "Updating files:  19% (3050/16052)\n",
      "Updating files:  20% (3211/16052)\n",
      "Updating files:  21% (3371/16052)\n",
      "Updating files:  22% (3532/16052)\n",
      "Updating files:  23% (3692/16052)\n",
      "Updating files:  24% (3853/16052)\n",
      "Updating files:  25% (4013/16052)\n",
      "Updating files:  25% (4079/16052)\n",
      "Updating files:  26% (4174/16052)\n",
      "Updating files:  27% (4335/16052)\n",
      "Updating files:  28% (4495/16052)\n",
      "Updating files:  29% (4656/16052)\n",
      "Updating files:  30% (4816/16052)\n",
      "Updating files:  31% (4977/16052)\n",
      "Updating files:  32% (5137/16052)\n",
      "Updating files:  33% (5298/16052)\n",
      "Updating files:  33% (5455/16052)\n",
      "Updating files:  34% (5458/16052)\n",
      "Updating files:  35% (5619/16052)\n",
      "Updating files:  36% (5779/16052)\n",
      "Updating files:  37% (5940/16052)\n",
      "Updating files:  38% (6100/16052)\n",
      "Updating files:  39% (6261/16052)\n",
      "Updating files:  40% (6421/16052)\n",
      "Updating files:  41% (6582/16052)\n",
      "Updating files:  42% (6742/16052)\n",
      "Updating files:  42% (6806/16052)\n",
      "Updating files:  43% (6903/16052)\n",
      "Updating files:  44% (7063/16052)\n",
      "Updating files:  45% (7224/16052)\n",
      "Updating files:  46% (7384/16052)\n",
      "Updating files:  47% (7545/16052)\n",
      "Updating files:  48% (7705/16052)\n",
      "Updating files:  49% (7866/16052)\n",
      "Updating files:  50% (8026/16052)\n",
      "Updating files:  51% (8187/16052)\n",
      "Updating files:  51% (8248/16052)\n",
      "Updating files:  52% (8348/16052)\n",
      "Updating files:  53% (8508/16052)\n",
      "Updating files:  54% (8669/16052)\n",
      "Updating files:  55% (8829/16052)\n",
      "Updating files:  56% (8990/16052)\n",
      "Updating files:  57% (9150/16052)\n",
      "Updating files:  58% (9311/16052)\n",
      "Updating files:  59% (9471/16052)\n",
      "Updating files:  60% (9632/16052)\n",
      "Updating files:  61% (9792/16052)\n",
      "Updating files:  62% (9953/16052)\n",
      "Updating files:  63% (10113/16052)\n",
      "Updating files:  64% (10274/16052)\n",
      "Updating files:  65% (10434/16052)\n",
      "Updating files:  66% (10595/16052)\n",
      "Updating files:  67% (10755/16052)\n",
      "Updating files:  68% (10916/16052)\n",
      "Updating files:  68% (11040/16052)\n",
      "Updating files:  69% (11076/16052)\n",
      "Updating files:  70% (11237/16052)\n",
      "Updating files:  71% (11397/16052)\n",
      "Updating files:  72% (11558/16052)\n",
      "Updating files:  73% (11718/16052)\n",
      "Updating files:  74% (11879/16052)\n",
      "Updating files:  75% (12039/16052)\n",
      "Updating files:  76% (12200/16052)\n",
      "Updating files:  77% (12361/16052)\n",
      "Updating files:  78% (12521/16052)\n",
      "Updating files:  79% (12682/16052)\n",
      "Updating files:  80% (12842/16052)\n",
      "Updating files:  81% (13003/16052)\n",
      "Updating files:  82% (13163/16052)\n",
      "Updating files:  83% (13324/16052)\n",
      "Updating files:  84% (13484/16052)\n",
      "Updating files:  85% (13645/16052)\n",
      "Updating files:  85% (13672/16052)\n",
      "Updating files:  86% (13805/16052)\n",
      "Updating files:  87% (13966/16052)\n",
      "Updating files:  88% (14126/16052)\n",
      "Updating files:  89% (14287/16052)\n",
      "Updating files:  90% (14447/16052)\n",
      "Updating files:  91% (14608/16052)\n",
      "Updating files:  92% (14768/16052)\n",
      "Updating files:  93% (14929/16052)\n",
      "Updating files:  94% (15089/16052)\n",
      "Updating files:  95% (15250/16052)\n",
      "Updating files:  96% (15410/16052)\n",
      "Updating files:  97% (15571/16052)\n",
      "Updating files:  98% (15731/16052)\n",
      "Updating files:  98% (15888/16052)\n",
      "Updating files:  99% (15892/16052)\n",
      "Updating files: 100% (16052/16052)\n",
      "Updating files: 100% (16052/16052), done.\n"
     ]
    },
    {
     "name": "stdout",
     "output_type": "stream",
     "text": [
      "C:\\Studium\\PyTorch-YOLOv3\n"
     ]
    }
   ],
   "source": [
    "%cd data\n",
    "!mkdir carla\n",
    "!git clone https://github.com/davidrelke/carla-dataset.git\n",
    "!mv carla-dataset/* carla\n",
    "!rm -r -f carla-dataset\n",
    "%cd .."
   ]
  },
  {
   "cell_type": "code",
   "execution_count": 6,
   "metadata": {
    "collapsed": false,
    "jupyter": {
     "outputs_hidden": false
    },
    "pycharm": {
     "name": "#%%\n"
    }
   },
   "outputs": [
    {
     "name": "stdout",
     "output_type": "stream",
     "text": [
      "C:\\Studium\\PyTorch-YOLOv3\\weights\n",
      "C:\\Studium\\PyTorch-YOLOv3\n"
     ]
    },
    {
     "name": "stderr",
     "output_type": "stream",
     "text": [
      "  % Total    % Received % Xferd  Average Speed   Time    Time     Time  Current\n",
      "                                 Dload  Upload   Total   Spent    Left  Speed\n",
      "\n",
      "  0     0    0     0    0     0      0      0 --:--:-- --:--:-- --:--:--     0\n",
      "100   348    0   348    0     0    348      0 --:--:-- --:--:-- --:--:--  1011\n",
      "100   408    0   408    0     0    408      0 --:--:-- --:--:-- --:--:--  1186\n",
      "\n",
      "  0     0    0     0    0     0      0      0 --:--:-- --:--:-- --:--:--     0\n",
      "\n",
      "  0     0    0     0    0     0      0      0 --:--:--  0:00:01 --:--:--     0\n",
      "\n",
      "  0     0    0     0    0     0      0      0 --:--:--  0:00:01 --:--:--     0\n",
      "100 3627k    0 3627k    0     0  1813k      0 --:--:--  0:00:02 --:--:-- 3683k\n",
      "100 8331k    0 8331k    0     0  2777k      0 --:--:--  0:00:03 --:--:-- 4197k\n",
      "100 13.1M    0 13.1M    0     0  3362k      0 --:--:--  0:00:04 --:--:-- 4506k\n",
      "100 18.1M    0 18.1M    0     0  3723k      0 --:--:--  0:00:05 --:--:-- 4672k\n",
      "100 22.2M    0 22.2M    0     0  3801k      0 --:--:--  0:00:06 --:--:-- 4562k\n",
      "100 26.5M    0 26.5M    0     0  3887k      0 --:--:--  0:00:07 --:--:-- 4716k\n",
      "100 31.1M    0 31.1M    0     0  3993k      0 --:--:--  0:00:08 --:--:-- 4723k\n",
      "100 35.9M    0 35.9M    0     0  4093k      0 --:--:--  0:00:09 --:--:-- 4678k\n",
      "100 41.0M    0 41.0M    0     0  4204k      0 --:--:--  0:00:10 --:--:-- 4684k\n",
      "100 45.9M    0 45.9M    0     0  4281k      0 --:--:--  0:00:11 --:--:-- 4872k\n",
      "100 49.2M    0 49.2M    0     0  4203k      0 --:--:--  0:00:12 --:--:-- 4646k\n",
      "100 52.4M    0 52.4M    0     0  4131k      0 --:--:--  0:00:13 --:--:-- 4351k\n",
      "100 56.1M    0 56.1M    0     0  4107k      0 --:--:--  0:00:14 --:--:-- 4131k\n",
      "100 59.5M    0 59.5M    0     0  4067k      0 --:--:--  0:00:15 --:--:-- 3795k\n",
      "100 62.9M    0 62.9M    0     0  4028k      0 --:--:--  0:00:16 --:--:-- 3471k\n",
      "100 66.5M    0 66.5M    0     0  4007k      0 --:--:--  0:00:17 --:--:-- 3535k\n",
      "100 70.1M    0 70.1M    0     0  3988k      0 --:--:--  0:00:18 --:--:-- 3615k\n",
      "100 73.5M    0 73.5M    0     0  3962k      0 --:--:--  0:00:19 --:--:-- 3558k\n",
      "100 76.8M    0 76.8M    0     0  3932k      0 --:--:--  0:00:20 --:--:-- 3526k\n",
      "100 80.3M    0 80.3M    0     0  3919k      0 --:--:--  0:00:21 --:--:-- 3567k\n",
      "100 83.8M    0 83.8M    0     0  3900k      0 --:--:--  0:00:22 --:--:-- 3539k\n",
      "100 87.2M    0 87.2M    0     0  3885k      0 --:--:--  0:00:23 --:--:-- 3516k\n",
      "100 90.7M    0 90.7M    0     0  3870k      0 --:--:--  0:00:24 --:--:-- 3519k\n",
      "100 94.2M    0 94.2M    0     0  3861k      0 --:--:--  0:00:25 --:--:-- 3566k\n",
      "100 97.8M    0 97.8M    0     0  3853k      0 --:--:--  0:00:26 --:--:-- 3580k\n",
      "100  101M    0  101M    0     0  3838k      0 --:--:--  0:00:27 --:--:-- 3564k\n",
      "100  104M    0  104M    0     0  3825k      0 --:--:--  0:00:28 --:--:-- 3538k\n",
      "100  107M    0  107M    0     0  3810k      0 --:--:--  0:00:29 --:--:-- 3523k\n",
      "100  111M    0  111M    0     0  3806k      0 --:--:--  0:00:30 --:--:-- 3540k\n",
      "100  115M    0  115M    0     0  3800k      0 --:--:--  0:00:31 --:--:-- 3509k\n",
      "100  118M    0  118M    0     0  3789k      0 --:--:--  0:00:32 --:--:-- 3523k\n",
      "100  122M    0  122M    0     0  3787k      0 --:--:--  0:00:33 --:--:-- 3566k\n",
      "100  125M    0  125M    0     0  3782k      0 --:--:--  0:00:34 --:--:-- 3622k\n",
      "100  129M    0  129M    0     0  3775k      0 --:--:--  0:00:35 --:--:-- 3593k\n",
      "100  132M    0  132M    0     0  3768k      0 --:--:--  0:00:36 --:--:-- 3585k\n",
      "100  135M    0  135M    0     0  3760k      0 --:--:--  0:00:37 --:--:-- 3566k\n",
      "100  139M    0  139M    0     0  3757k      0 --:--:--  0:00:38 --:--:-- 3569k\n",
      "100  143M    0  143M    0     0  3755k      0 --:--:--  0:00:39 --:--:-- 3567k\n",
      "100  146M    0  146M    0     0  3750k      0 --:--:--  0:00:40 --:--:-- 3574k\n",
      "100  149M    0  149M    0     0  3744k      0 --:--:--  0:00:41 --:--:-- 3571k\n",
      "100  153M    0  153M    0     0  3737k      0 --:--:--  0:00:42 --:--:-- 3575k\n",
      "100  156M    0  156M    0     0  3735k      0 --:--:--  0:00:43 --:--:-- 3575k\n",
      "100  160M    0  160M    0     0  3729k      0 --:--:--  0:00:44 --:--:-- 3526k\n",
      "100  163M    0  163M    0     0  3722k      0 --:--:--  0:00:45 --:--:-- 3497k\n",
      "100  167M    0  167M    0     0  3720k      0 --:--:--  0:00:46 --:--:-- 3526k\n",
      "100  170M    0  170M    0     0  3711k      0 --:--:--  0:00:47 --:--:-- 3469k\n",
      "100  173M    0  173M    0     0  3705k      0 --:--:--  0:00:48 --:--:-- 3452k\n",
      "100  177M    0  177M    0     0  3702k      0 --:--:--  0:00:49 --:--:-- 3468k\n",
      "100  180M    0  180M    0     0  3701k      0 --:--:--  0:00:50 --:--:-- 3507k\n",
      "100  184M    0  184M    0     0  3699k      0 --:--:--  0:00:51 --:--:-- 3500k\n",
      "100  187M    0  187M    0     0  3696k      0 --:--:--  0:00:52 --:--:-- 3580k\n",
      "100  191M    0  191M    0     0  3692k      0 --:--:--  0:00:53 --:--:-- 3567k\n",
      "100  194M    0  194M    0     0  3692k      0 --:--:--  0:00:54 --:--:-- 3587k\n",
      "100  198M    0  198M    0     0  3687k      0 --:--:--  0:00:55 --:--:-- 3544k\n",
      "100  201M    0  201M    0     0  3686k      0 --:--:--  0:00:56 --:--:-- 3551k\n",
      "100  204M    0  204M    0     0  3671k      0 --:--:--  0:00:57 --:--:-- 3411k\n",
      "100  208M    0  208M    0     0  3674k      0 --:--:--  0:00:58 --:--:-- 3475k\n",
      "100  211M    0  211M    0     0  3667k      0 --:--:--  0:00:59 --:--:-- 3401k\n",
      "100  215M    0  215M    0     0  3670k      0 --:--:--  0:01:00 --:--:-- 3464k\n",
      "100  218M    0  218M    0     0  3665k      0 --:--:--  0:01:01 --:--:-- 3430k\n",
      "100  221M    0  221M    0     0  3660k      0 --:--:--  0:01:02 --:--:-- 3532k\n",
      "100  225M    0  225M    0     0  3659k      0 --:--:--  0:01:03 --:--:-- 3491k\n",
      "100  228M    0  228M    0     0  3656k      0 --:--:--  0:01:04 --:--:-- 3523k\n",
      "100  231M    0  231M    0     0  3653k      0 --:--:--  0:01:05 --:--:-- 3477k\n",
      "100  235M    0  235M    0     0  3648k      0 --:--:--  0:01:06 --:--:-- 3540k\n"
     ]
    }
   ],
   "source": [
    "%cd weights\n",
    "!bash download_latest_carla_weights.bash\n",
    "%cd .."
   ]
  },
  {
   "cell_type": "code",
   "execution_count": 9,
   "metadata": {
    "collapsed": false,
    "jupyter": {
     "outputs_hidden": false
    },
    "pycharm": {
     "name": "#%%\n"
    }
   },
   "outputs": [
    {
     "name": "stdout",
     "output_type": "stream",
     "text": [
      "Namespace(batch_size=8, class_path='data/carla.names', conf_thres=0.9, data_config='config/carla.data', img_size=416, iou_thres=0.5, model_def='config/yolov3-carla-slow3.cfg', multi_thres=False, n_cpu=8, nms_thres=0.5, out='output.csv', weights_path='weights/yolov3-carla-29.pth')\n"
     ]
    },
    {
     "name": "stderr",
     "output_type": "stream",
     "text": [
      "\n",
      "Detecting objects:   0%|          | 0/251 [00:00<?, ?it/s]\n",
      "Detecting objects:   0%|          | 0/251 [00:03<?, ?it/s]\n",
      "Traceback (most recent call last):\n",
      "  File \"test.py\", line 165, in <module>\n",
      "    main()\n",
      "  File \"test.py\", line 150, in main\n",
      "    precision, recall, AP, f1, ap_class = evaluate(\n",
      "  File \"test.py\", line 27, in evaluate\n",
      "    for batch_i, (_, imgs, targets) in enumerate(tqdm.tqdm(dataloader, desc=\"Detecting objects\")):\n",
      "  File \"C:\\Users\\david\\anaconda3\\envs\\yolo\\lib\\site-packages\\tqdm\\std.py\", line 1165, in __iter__\n",
      "    for obj in iterable:\n",
      "  File \"C:\\Users\\david\\anaconda3\\envs\\yolo\\lib\\site-packages\\torch\\utils\\data\\dataloader.py\", line 435, in __next__\n",
      "    data = self._next_data()\n",
      "  File \"C:\\Users\\david\\anaconda3\\envs\\yolo\\lib\\site-packages\\torch\\utils\\data\\dataloader.py\", line 1085, in _next_data\n",
      "    return self._process_data(data)\n",
      "  File \"C:\\Users\\david\\anaconda3\\envs\\yolo\\lib\\site-packages\\torch\\utils\\data\\dataloader.py\", line 1111, in _process_data\n",
      "    data.reraise()\n",
      "  File \"C:\\Users\\david\\anaconda3\\envs\\yolo\\lib\\site-packages\\torch\\_utils.py\", line 428, in reraise\n",
      "    raise self.exc_type(msg)\n",
      "FileNotFoundError: Caught FileNotFoundError in DataLoader worker process 0.\n",
      "Original Traceback (most recent call last):\n",
      "  File \"C:\\Users\\david\\anaconda3\\envs\\yolo\\lib\\site-packages\\torch\\utils\\data\\_utils\\worker.py\", line 198, in _worker_loop\n",
      "    data = fetcher.fetch(index)\n",
      "  File \"C:\\Users\\david\\anaconda3\\envs\\yolo\\lib\\site-packages\\torch\\utils\\data\\_utils\\fetch.py\", line 44, in fetch\n",
      "    data = [self.dataset[idx] for idx in possibly_batched_index]\n",
      "  File \"C:\\Users\\david\\anaconda3\\envs\\yolo\\lib\\site-packages\\torch\\utils\\data\\_utils\\fetch.py\", line 44, in <listcomp>\n",
      "    data = [self.dataset[idx] for idx in possibly_batched_index]\n",
      "  File \"C:\\Studium\\PyTorch-YOLOv3\\utils\\datasets.py\", line 90, in __getitem__\n",
      "    img = transforms.ToTensor()(Image.open(img_path).convert('RGB'))\n",
      "  File \"C:\\Users\\david\\anaconda3\\envs\\yolo\\lib\\site-packages\\PIL\\Image.py\", line 2891, in open\n",
      "    fp = builtins.open(filename, \"rb\")\n",
      "FileNotFoundError: [Errno 2] No such file or directory: 'C:\\\\Studium\\\\DLVR\\\\PyTorch-YOLOv3\\\\data\\\\carla\\\\images\\\\000345.jpg'\n",
      "\n"
     ]
    }
   ],
   "source": [
    "!python test.py --model_def config/yolov3-carla-slow3.cfg --data_config config/carla.data --weights_path weights/yolov3-carla-29.pth --conf_thres 0.9 --out output.csv"
   ]
  }
 ],
 "metadata": {
  "kernelspec": {
   "display_name": "yolo",
   "language": "python",
   "name": "yolo"
  },
  "language_info": {
   "codemirror_mode": {
    "name": "ipython",
    "version": 3
   },
   "file_extension": ".py",
   "mimetype": "text/x-python",
   "name": "python",
   "nbconvert_exporter": "python",
   "pygments_lexer": "ipython3",
   "version": "3.8.5"
  }
 },
 "nbformat": 4,
 "nbformat_minor": 4
}
